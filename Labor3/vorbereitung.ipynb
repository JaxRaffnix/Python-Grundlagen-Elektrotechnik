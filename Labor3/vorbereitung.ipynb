{
 "cells": [
  {
   "cell_type": "code",
   "execution_count": 1,
   "metadata": {},
   "outputs": [],
   "source": [
    "from math import sqrt\n",
    "from math import pi\n",
    "import pandas as pd"
   ]
  },
  {
   "cell_type": "markdown",
   "metadata": {},
   "source": [
    "# Calculate $U_{RMS}$\n",
    "\n",
    "$ U_{RMS} = \\sqrt{ \\frac{1}{T} * \\sum_{i=1}^{n} u_i^2 \\Delta t_i } $\n",
    "für konstante Abstände $\\Delta t$\n",
    "\n",
    "$ U_{RMS} = \\sqrt( \\frac{1}{n} * (u_1^2 + u_2^2 + u_3^2 + \\dots + u_n^2 ) ) $"
   ]
  },
  {
   "cell_type": "code",
   "execution_count": 2,
   "metadata": {},
   "outputs": [
    {
     "name": "stdout",
     "output_type": "stream",
     "text": [
      "U_RMS =  3.2744 Volt\n"
     ]
    }
   ],
   "source": [
    "Ut = pd.DataFrame({\n",
    "    \"time\":     [0, 0.2, 0.4, 0.6, 0.8, 1],\n",
    "    \"voltage\":  [3, 4.9, 4.2, 1.8, 1.2, 3]\n",
    "})\n",
    "\n",
    "Ut[\"voltage\"] *= Ut[\"voltage\"]      # multiply voltage by power of 2\n",
    "\n",
    "Ueff = sqrt( 1/len(Ut.index) * Ut[\"voltage\"].sum() )\n",
    "\n",
    "print(\"U_RMS = \", \"%.4f\" % Ueff, \"Volt\")\n"
   ]
  },
  {
   "cell_type": "markdown",
   "metadata": {},
   "source": [
    "# Check for $ n_1 * i_1(t) >> n_2 * i_2(t) $"
   ]
  },
  {
   "cell_type": "code",
   "execution_count": 3,
   "metadata": {},
   "outputs": [
    {
     "name": "stdout",
     "output_type": "stream",
     "text": [
      "11.0 >> 0.022\n",
      "True\n"
     ]
    }
   ],
   "source": [
    "i1 = 220 * 50 * 10**-3\n",
    "i2 = 220 * 0.1 * 10**-3\n",
    "\n",
    "print(i1, \">>\", i2)\n",
    "if i1 > i2:\n",
    "    print(True)\n",
    "else:\n",
    "    print(False)"
   ]
  },
  {
   "cell_type": "markdown",
   "metadata": {},
   "source": [
    "# Check for $ \\frac{1}{\\omega * C_2} << R_2$"
   ]
  },
  {
   "cell_type": "code",
   "execution_count": 4,
   "metadata": {},
   "outputs": [
    {
     "name": "stdout",
     "output_type": "stream",
     "text": [
      "1446.8631 << 68000\n",
      "True\n"
     ]
    }
   ],
   "source": [
    "value1 = 1 / (2 * pi * 50 * 2.2 * 10**-6)\n",
    "\n",
    "R2 = 68 * 10**3\n",
    "\n",
    "print(\"%.4f\" % value1, \"<<\", R2)\n",
    "if R2 > value1:\n",
    "    print(True)\n",
    "else:\n",
    "    print(False)"
   ]
  }
 ],
 "metadata": {
  "kernelspec": {
   "display_name": "Python 3.11.0 64-bit",
   "language": "python",
   "name": "python3"
  },
  "language_info": {
   "codemirror_mode": {
    "name": "ipython",
    "version": 3
   },
   "file_extension": ".py",
   "mimetype": "text/x-python",
   "name": "python",
   "nbconvert_exporter": "python",
   "pygments_lexer": "ipython3",
   "version": "3.11.0"
  },
  "orig_nbformat": 4,
  "vscode": {
   "interpreter": {
    "hash": "1780a480204cd1fe9fdc7a150b0dfc0408ee1ada1ff78bc526b6cceee11ff5ec"
   }
  }
 },
 "nbformat": 4,
 "nbformat_minor": 2
}
