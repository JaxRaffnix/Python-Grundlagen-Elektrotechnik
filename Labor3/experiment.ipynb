{
 "cells": [
  {
   "cell_type": "code",
   "execution_count": 5,
   "metadata": {},
   "outputs": [],
   "source": [
    "import numpy as np\n",
    "import pandas as pd\n",
    "import matplotlib.pyplot as plt\n",
    "import scipy as sy"
   ]
  },
  {
   "cell_type": "markdown",
   "metadata": {},
   "source": [
    "# Analys of AC and DC Signals"
   ]
  },
  {
   "cell_type": "code",
   "execution_count": null,
   "metadata": {},
   "outputs": [],
   "source": [
    "ac_signal = pd.read_csv(r\"3-2-b-1.csv\")\n",
    "ac_signal.plot(kind=\"line\", marker=\"o\")\n",
    "\n",
    "ac_period = 1 / sy.fft(ac_signal)\n",
    "plt.axvline(x=1*ac_period, color=\"b\", label=\"Periode\")\n",
    "plt.axvline(x=2*ac_period, color=\"b\", label=\"Periode\")\n",
    "plt.axvline(x=3*ac_period, color=\"b\", label=\"Periode\")\n",
    "\n",
    "ac_amplitude = np.abs(ac_signal)\n",
    "\n",
    "ac_rms = 5 # dummy value\n",
    "\n",
    "ac_dcpart = 5 # dummy value\n",
    "\n",
    "####################\n",
    "\n",
    "dc_signal = pd.read_csv(r\"3-2-b-2.csv\")\n",
    "dc_signal.plot(kind=\"line\", marker=\"o\")\n",
    "\n",
    "dc_period = 1 / sy.fft(ac_signal)\n",
    "plt.axvline(x=1*dc_period, color=\"b\", label=\"Periode\")\n",
    "plt.axvline(x=2*dc_period, color=\"b\", label=\"Periode\")\n",
    "plt.axvline(x=3*dc_period, color=\"b\", label=\"Periode\")\n",
    "\n",
    "dc_amplitude = np.abs(dc_signal)\n",
    "\n",
    "Urms = np.sqrt(ac_dcpart^2 + ac_rms^2)\n",
    "\n",
    "# Missing: Root mean square\n",
    "# Missing: Measure ablenkungsempfindlichkeit"
   ]
  },
  {
   "cell_type": "markdown",
   "metadata": {},
   "source": [
    "# AC Cutoff Frequency"
   ]
  },
  {
   "cell_type": "code",
   "execution_count": null,
   "metadata": {},
   "outputs": [],
   "source": [
    "t = 5       # dummy value\n",
    "Udelta = 5  # dummy value\n",
    "Uo = 5 # dummy value\n",
    "fg = 0 # dummy value\n",
    "\n",
    "Uo_sinus = 0 # dummy value\n",
    "U3db = 0 # dummy value\n",
    "fg_sinus = 0 # dummy value"
   ]
  },
  {
   "cell_type": "markdown",
   "metadata": {},
   "source": [
    "# Hysteresis Curve"
   ]
  },
  {
   "cell_type": "code",
   "execution_count": null,
   "metadata": {},
   "outputs": [],
   "source": [
    "UxUy = pd.read_csv(r\"3-4-a.csv\")\n",
    "UxUy.plot(kind=\"line\", marker=\"o\")\n",
    "\n",
    "XY = pd.read_csv(r\"3-4-b.csv\")\n",
    "XY.plot(kind=\"line\", marker=\"o\")\n",
    "\n",
    "Hmax = 0        # dummy value\n",
    "Hc = 0 # dummy value\n",
    "Bmax = 0 # dummy value\n",
    "Br = 0 # dummy value"
   ]
  },
  {
   "cell_type": "markdown",
   "metadata": {},
   "source": [
    "# Calculate Speed of Sound"
   ]
  },
  {
   "cell_type": "code",
   "execution_count": null,
   "metadata": {},
   "outputs": [],
   "source": [
    "fsres = 0       # dummy value\n",
    "\n",
    "fopt = 0        # dummy value\n",
    "\n",
    "x1 = 0        # dummy value\n",
    "x2 = 0 # dummy value\n",
    "\n",
    "x_delta = x2 - x1\n",
    "\n",
    "c = fsres * x_delta"
   ]
  },
  {
   "cell_type": "markdown",
   "metadata": {},
   "source": [
    "# Measure Distance"
   ]
  },
  {
   "cell_type": "code",
   "execution_count": null,
   "metadata": {},
   "outputs": [],
   "source": [
    "t_delta = 0         # dummy value\n",
    "\n",
    "h = c * t_delta / 2\n",
    "h_measured = 0  # dummy value\n",
    "\n"
   ]
  }
 ],
 "metadata": {
  "kernelspec": {
   "display_name": "Python 3.11.0 64-bit",
   "language": "python",
   "name": "python3"
  },
  "language_info": {
   "codemirror_mode": {
    "name": "ipython",
    "version": 3
   },
   "file_extension": ".py",
   "mimetype": "text/x-python",
   "name": "python",
   "nbconvert_exporter": "python",
   "pygments_lexer": "ipython3",
   "version": "3.11.0"
  },
  "orig_nbformat": 4,
  "vscode": {
   "interpreter": {
    "hash": "bd23df922172ede099d6544ccf5369b574de283b9457739e7e2fac2bdc04a275"
   }
  }
 },
 "nbformat": 4,
 "nbformat_minor": 2
}
