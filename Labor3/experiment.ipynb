{
 "cells": [
  {
   "cell_type": "code",
   "execution_count": null,
   "metadata": {},
   "outputs": [],
   "source": []
  },
  {
   "cell_type": "markdown",
   "metadata": {},
   "source": [
    "# Analyse unkown Signal"
   ]
  },
  {
   "cell_type": "code",
   "execution_count": null,
   "metadata": {},
   "outputs": [],
   "source": [
    "import numpy as np\n",
    "import pandas as pd\n",
    "\n",
    "\n",
    "signal = pd.read_csv(r\"3.2.csv\")\n",
    "\n",
    "amplitude = np.abs(signal[voltage])\n",
    "\n",
    "fourier = np.fft.fft(signal[voltage])\n",
    "\n",
    "# Missing: read DC value from fourier transformation\n",
    "# Missing: Root mean square\n",
    "# Missing: vertical line for period length\n",
    "\n",
    "# Missing: Measure ablenkungsempfindlichkeit"
   ]
  }
 ],
 "metadata": {
  "kernelspec": {
   "display_name": "Python 3.11.0 64-bit",
   "language": "python",
   "name": "python3"
  },
  "language_info": {
   "name": "python",
   "version": "3.11.0"
  },
  "orig_nbformat": 4,
  "vscode": {
   "interpreter": {
    "hash": "1780a480204cd1fe9fdc7a150b0dfc0408ee1ada1ff78bc526b6cceee11ff5ec"
   }
  }
 },
 "nbformat": 4,
 "nbformat_minor": 2
}
